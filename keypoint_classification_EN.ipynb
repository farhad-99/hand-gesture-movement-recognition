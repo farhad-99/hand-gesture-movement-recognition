{
 "cells": [
  {
   "cell_type": "code",
   "execution_count": 23,
   "metadata": {
    "id": "igMyGnjE9hEp"
   },
   "outputs": [],
   "source": [
    "import csv\n",
    "\n",
    "import numpy as np\n",
    "import tensorflow as tf\n",
    "from sklearn.model_selection import train_test_split\n",
    "\n",
    "RANDOM_SEED = 42"
   ]
  },
  {
   "cell_type": "markdown",
   "metadata": {
    "id": "t2HDvhIu9hEr"
   },
   "source": [
    "# Specify each path"
   ]
  },
  {
   "cell_type": "code",
   "execution_count": 24,
   "metadata": {
    "id": "9NvZP2Zn9hEy"
   },
   "outputs": [],
   "source": [
    "dataset = 'model/keypoint_classifier/keypoint.csv'\n",
    "model_save_path = 'model/keypoint_classifier/keypoint_classifier.hdf5'\n",
    "tflite_save_path = 'model/keypoint_classifier/keypoint_classifier.tflite'"
   ]
  },
  {
   "cell_type": "markdown",
   "metadata": {
    "id": "s5oMH7x19hEz"
   },
   "source": [
    "# Set number of classes"
   ]
  },
  {
   "cell_type": "code",
   "execution_count": 25,
   "metadata": {
    "id": "du4kodXL9hEz"
   },
   "outputs": [],
   "source": [
    "NUM_CLASSES = 7"
   ]
  },
  {
   "cell_type": "markdown",
   "metadata": {
    "id": "XjnL0uso9hEz"
   },
   "source": [
    "# Dataset reading"
   ]
  },
  {
   "cell_type": "code",
   "execution_count": 26,
   "metadata": {
    "id": "QT5ZqtEz9hE0"
   },
   "outputs": [],
   "source": [
    "X_dataset = np.loadtxt(dataset, delimiter=',', dtype='float32', usecols=list(range(1, (21 * 2) + 1)))"
   ]
  },
  {
   "cell_type": "code",
   "execution_count": 27,
   "metadata": {
    "id": "QmoKFsp49hE0"
   },
   "outputs": [],
   "source": [
    "y_dataset = np.loadtxt(dataset, delimiter=',', dtype='int32', usecols=(0))"
   ]
  },
  {
   "cell_type": "code",
   "execution_count": 28,
   "metadata": {
    "id": "xQU7JTZ_9hE0"
   },
   "outputs": [],
   "source": [
    "X_train, X_test, y_train, y_test = train_test_split(X_dataset, y_dataset, train_size=0.75, random_state=RANDOM_SEED)"
   ]
  },
  {
   "cell_type": "markdown",
   "metadata": {
    "id": "mxK_lETT9hE0"
   },
   "source": [
    "# Model building"
   ]
  },
  {
   "cell_type": "code",
   "execution_count": 29,
   "metadata": {
    "id": "vHBmUf1t9hE1"
   },
   "outputs": [
    {
     "name": "stdout",
     "output_type": "stream",
     "text": [
      "WARNING:tensorflow:Please add `keras.layers.InputLayer` instead of `keras.Input` to Sequential model. `keras.Input` is intended to be used by Functional model.\n"
     ]
    },
    {
     "name": "stderr",
     "output_type": "stream",
     "text": [
      "WARNING:tensorflow:Please add `keras.layers.InputLayer` instead of `keras.Input` to Sequential model. `keras.Input` is intended to be used by Functional model.\n"
     ]
    }
   ],
   "source": [
    "model = tf.keras.models.Sequential([\n",
    "    tf.keras.layers.Input((21 * 2, )),\n",
    "    tf.keras.layers.Dropout(0.2),\n",
    "    tf.keras.layers.Dense(20, activation='relu'),\n",
    "    tf.keras.layers.Dropout(0.4),\n",
    "    tf.keras.layers.Dense(10, activation='relu'),\n",
    "    tf.keras.layers.Dense(NUM_CLASSES, activation='softmax')\n",
    "])"
   ]
  },
  {
   "cell_type": "code",
   "execution_count": 30,
   "metadata": {
    "colab": {
     "base_uri": "https://localhost:8080/"
    },
    "id": "ypqky9tc9hE1",
    "outputId": "5db082bb-30e3-4110-bf63-a1ee777ecd46"
   },
   "outputs": [
    {
     "name": "stdout",
     "output_type": "stream",
     "text": [
      "Model: \"sequential_1\"\n",
      "_________________________________________________________________\n",
      "Layer (type)                 Output Shape              Param #   \n",
      "=================================================================\n",
      "dropout_2 (Dropout)          (None, 42)                0         \n",
      "_________________________________________________________________\n",
      "dense_3 (Dense)              (None, 20)                860       \n",
      "_________________________________________________________________\n",
      "dropout_3 (Dropout)          (None, 20)                0         \n",
      "_________________________________________________________________\n",
      "dense_4 (Dense)              (None, 10)                210       \n",
      "_________________________________________________________________\n",
      "dense_5 (Dense)              (None, 7)                 77        \n",
      "=================================================================\n",
      "Total params: 1,147\n",
      "Trainable params: 1,147\n",
      "Non-trainable params: 0\n",
      "_________________________________________________________________\n"
     ]
    }
   ],
   "source": [
    "model.summary()  # tf.keras.utils.plot_model(model, show_shapes=True)"
   ]
  },
  {
   "cell_type": "code",
   "execution_count": 31,
   "metadata": {
    "id": "MbMjOflQ9hE1"
   },
   "outputs": [],
   "source": [
    "# Model checkpoint callback\n",
    "cp_callback = tf.keras.callbacks.ModelCheckpoint(\n",
    "    model_save_path, verbose=1, save_weights_only=False)\n",
    "# Callback for early stopping\n",
    "es_callback = tf.keras.callbacks.EarlyStopping(patience=20, verbose=1)"
   ]
  },
  {
   "cell_type": "code",
   "execution_count": 32,
   "metadata": {
    "id": "c3Dac0M_9hE2"
   },
   "outputs": [],
   "source": [
    "# Model compilation\n",
    "model.compile(\n",
    "    optimizer='adam',\n",
    "    loss='sparse_categorical_crossentropy',\n",
    "    metrics=['accuracy']\n",
    ")"
   ]
  },
  {
   "cell_type": "markdown",
   "metadata": {
    "id": "7XI0j1Iu9hE2"
   },
   "source": [
    "# Model training"
   ]
  },
  {
   "cell_type": "code",
   "execution_count": 33,
   "metadata": {
    "colab": {
     "base_uri": "https://localhost:8080/"
    },
    "id": "WirBl-JE9hE3",
    "outputId": "71b30ca2-8294-4d9d-8aa2-800d90d399de",
    "scrolled": true
   },
   "outputs": [
    {
     "name": "stdout",
     "output_type": "stream",
     "text": [
      "Epoch 1/1000\n",
      "20/20 [==============================] - 0s 10ms/step - loss: 1.9429 - accuracy: 0.1375 - val_loss: 1.8522 - val_accuracy: 0.2415\n",
      "\n",
      "Epoch 00001: saving model to model/keypoint_classifier\\keypoint_classifier.hdf5\n",
      "Epoch 2/1000\n",
      "20/20 [==============================] - 0s 5ms/step - loss: 1.8325 - accuracy: 0.2380 - val_loss: 1.7230 - val_accuracy: 0.4099\n",
      "\n",
      "Epoch 00002: saving model to model/keypoint_classifier\\keypoint_classifier.hdf5\n",
      "Epoch 3/1000\n",
      "20/20 [==============================] - 0s 4ms/step - loss: 1.7175 - accuracy: 0.3547 - val_loss: 1.5703 - val_accuracy: 0.5465\n",
      "\n",
      "Epoch 00003: saving model to model/keypoint_classifier\\keypoint_classifier.hdf5\n",
      "Epoch 4/1000\n",
      "20/20 [==============================] - 0s 5ms/step - loss: 1.5896 - accuracy: 0.4430 - val_loss: 1.4161 - val_accuracy: 0.5724\n",
      "\n",
      "Epoch 00004: saving model to model/keypoint_classifier\\keypoint_classifier.hdf5\n",
      "Epoch 5/1000\n",
      "20/20 [==============================] - 0s 4ms/step - loss: 1.4480 - accuracy: 0.5094 - val_loss: 1.2476 - val_accuracy: 0.6184\n",
      "\n",
      "Epoch 00005: saving model to model/keypoint_classifier\\keypoint_classifier.hdf5\n",
      "Epoch 6/1000\n",
      "20/20 [==============================] - 0s 4ms/step - loss: 1.3547 - accuracy: 0.5302 - val_loss: 1.1228 - val_accuracy: 0.6231\n",
      "\n",
      "Epoch 00006: saving model to model/keypoint_classifier\\keypoint_classifier.hdf5\n",
      "Epoch 7/1000\n",
      "20/20 [==============================] - 0s 4ms/step - loss: 1.2665 - accuracy: 0.5605 - val_loss: 1.0304 - val_accuracy: 0.6372\n",
      "\n",
      "Epoch 00007: saving model to model/keypoint_classifier\\keypoint_classifier.hdf5\n",
      "Epoch 8/1000\n",
      "20/20 [==============================] - 0s 4ms/step - loss: 1.2030 - accuracy: 0.5738 - val_loss: 0.9505 - val_accuracy: 0.6431\n",
      "\n",
      "Epoch 00008: saving model to model/keypoint_classifier\\keypoint_classifier.hdf5\n",
      "Epoch 9/1000\n",
      "20/20 [==============================] - 0s 4ms/step - loss: 1.1327 - accuracy: 0.6025 - val_loss: 0.9004 - val_accuracy: 0.6502\n",
      "\n",
      "Epoch 00009: saving model to model/keypoint_classifier\\keypoint_classifier.hdf5\n",
      "Epoch 10/1000\n",
      "20/20 [==============================] - 0s 4ms/step - loss: 1.0982 - accuracy: 0.6017 - val_loss: 0.8532 - val_accuracy: 0.6855\n",
      "\n",
      "Epoch 00010: saving model to model/keypoint_classifier\\keypoint_classifier.hdf5\n",
      "Epoch 11/1000\n",
      "20/20 [==============================] - 0s 4ms/step - loss: 1.0650 - accuracy: 0.6139 - val_loss: 0.8113 - val_accuracy: 0.7291\n",
      "\n",
      "Epoch 00011: saving model to model/keypoint_classifier\\keypoint_classifier.hdf5\n",
      "Epoch 12/1000\n",
      "20/20 [==============================] - 0s 4ms/step - loss: 1.0084 - accuracy: 0.6383 - val_loss: 0.7813 - val_accuracy: 0.7161\n",
      "\n",
      "Epoch 00012: saving model to model/keypoint_classifier\\keypoint_classifier.hdf5\n",
      "Epoch 13/1000\n",
      "20/20 [==============================] - 0s 5ms/step - loss: 0.9793 - accuracy: 0.6414 - val_loss: 0.7387 - val_accuracy: 0.7515\n",
      "\n",
      "Epoch 00013: saving model to model/keypoint_classifier\\keypoint_classifier.hdf5\n",
      "Epoch 14/1000\n",
      "20/20 [==============================] - 0s 4ms/step - loss: 0.9630 - accuracy: 0.6367 - val_loss: 0.7077 - val_accuracy: 0.7691\n",
      "\n",
      "Epoch 00014: saving model to model/keypoint_classifier\\keypoint_classifier.hdf5\n",
      "Epoch 15/1000\n",
      "20/20 [==============================] - 0s 4ms/step - loss: 0.9333 - accuracy: 0.6516 - val_loss: 0.6741 - val_accuracy: 0.7797\n",
      "\n",
      "Epoch 00015: saving model to model/keypoint_classifier\\keypoint_classifier.hdf5\n",
      "Epoch 16/1000\n",
      "20/20 [==============================] - 0s 4ms/step - loss: 0.9151 - accuracy: 0.6528 - val_loss: 0.6476 - val_accuracy: 0.7998\n",
      "\n",
      "Epoch 00016: saving model to model/keypoint_classifier\\keypoint_classifier.hdf5\n",
      "Epoch 17/1000\n",
      "20/20 [==============================] - 0s 4ms/step - loss: 0.8996 - accuracy: 0.6626 - val_loss: 0.6307 - val_accuracy: 0.8009\n",
      "\n",
      "Epoch 00017: saving model to model/keypoint_classifier\\keypoint_classifier.hdf5\n",
      "Epoch 18/1000\n",
      "20/20 [==============================] - 0s 4ms/step - loss: 0.8617 - accuracy: 0.6740 - val_loss: 0.6116 - val_accuracy: 0.8151\n",
      "\n",
      "Epoch 00018: saving model to model/keypoint_classifier\\keypoint_classifier.hdf5\n",
      "Epoch 19/1000\n",
      "20/20 [==============================] - 0s 5ms/step - loss: 0.8326 - accuracy: 0.6889 - val_loss: 0.5842 - val_accuracy: 0.8233\n",
      "\n",
      "Epoch 00019: saving model to model/keypoint_classifier\\keypoint_classifier.hdf5\n",
      "Epoch 20/1000\n",
      "20/20 [==============================] - 0s 5ms/step - loss: 0.8047 - accuracy: 0.6932 - val_loss: 0.5651 - val_accuracy: 0.8351\n",
      "\n",
      "Epoch 00020: saving model to model/keypoint_classifier\\keypoint_classifier.hdf5\n",
      "Epoch 21/1000\n",
      "20/20 [==============================] - 0s 5ms/step - loss: 0.8011 - accuracy: 0.6972 - val_loss: 0.5396 - val_accuracy: 0.8422\n",
      "\n",
      "Epoch 00021: saving model to model/keypoint_classifier\\keypoint_classifier.hdf5\n",
      "Epoch 22/1000\n",
      "20/20 [==============================] - 0s 5ms/step - loss: 0.7755 - accuracy: 0.7097 - val_loss: 0.5289 - val_accuracy: 0.8386\n",
      "\n",
      "Epoch 00022: saving model to model/keypoint_classifier\\keypoint_classifier.hdf5\n",
      "Epoch 23/1000\n",
      "20/20 [==============================] - 0s 5ms/step - loss: 0.7850 - accuracy: 0.6999 - val_loss: 0.5132 - val_accuracy: 0.8445\n",
      "\n",
      "Epoch 00023: saving model to model/keypoint_classifier\\keypoint_classifier.hdf5\n",
      "Epoch 24/1000\n",
      "20/20 [==============================] - 0s 4ms/step - loss: 0.7547 - accuracy: 0.7137 - val_loss: 0.4953 - val_accuracy: 0.8457\n",
      "\n",
      "Epoch 00024: saving model to model/keypoint_classifier\\keypoint_classifier.hdf5\n",
      "Epoch 25/1000\n",
      "20/20 [==============================] - 0s 5ms/step - loss: 0.7629 - accuracy: 0.7121 - val_loss: 0.4790 - val_accuracy: 0.8433\n",
      "\n",
      "Epoch 00025: saving model to model/keypoint_classifier\\keypoint_classifier.hdf5\n",
      "Epoch 26/1000\n",
      "20/20 [==============================] - 0s 5ms/step - loss: 0.7407 - accuracy: 0.7133 - val_loss: 0.4719 - val_accuracy: 0.8516\n",
      "\n",
      "Epoch 00026: saving model to model/keypoint_classifier\\keypoint_classifier.hdf5\n",
      "Epoch 27/1000\n",
      "20/20 [==============================] - 0s 5ms/step - loss: 0.7336 - accuracy: 0.7117 - val_loss: 0.4594 - val_accuracy: 0.8528\n",
      "\n",
      "Epoch 00027: saving model to model/keypoint_classifier\\keypoint_classifier.hdf5\n",
      "Epoch 28/1000\n",
      "20/20 [==============================] - 0s 5ms/step - loss: 0.7317 - accuracy: 0.7129 - val_loss: 0.4449 - val_accuracy: 0.8669\n",
      "\n",
      "Epoch 00028: saving model to model/keypoint_classifier\\keypoint_classifier.hdf5\n",
      "Epoch 29/1000\n",
      "20/20 [==============================] - 0s 5ms/step - loss: 0.7220 - accuracy: 0.7148 - val_loss: 0.4353 - val_accuracy: 0.8587\n",
      "\n",
      "Epoch 00029: saving model to model/keypoint_classifier\\keypoint_classifier.hdf5\n",
      "Epoch 30/1000\n",
      "20/20 [==============================] - 0s 4ms/step - loss: 0.7003 - accuracy: 0.7294 - val_loss: 0.4331 - val_accuracy: 0.8657\n",
      "\n",
      "Epoch 00030: saving model to model/keypoint_classifier\\keypoint_classifier.hdf5\n",
      "Epoch 31/1000\n",
      "20/20 [==============================] - 0s 5ms/step - loss: 0.7069 - accuracy: 0.7270 - val_loss: 0.4193 - val_accuracy: 0.8787\n",
      "\n",
      "Epoch 00031: saving model to model/keypoint_classifier\\keypoint_classifier.hdf5\n",
      "Epoch 32/1000\n",
      "20/20 [==============================] - 0s 5ms/step - loss: 0.6981 - accuracy: 0.7298 - val_loss: 0.4162 - val_accuracy: 0.8622\n",
      "\n",
      "Epoch 00032: saving model to model/keypoint_classifier\\keypoint_classifier.hdf5\n",
      "Epoch 33/1000\n",
      "20/20 [==============================] - 0s 4ms/step - loss: 0.6670 - accuracy: 0.7412 - val_loss: 0.4023 - val_accuracy: 0.8740\n",
      "\n",
      "Epoch 00033: saving model to model/keypoint_classifier\\keypoint_classifier.hdf5\n",
      "Epoch 34/1000\n",
      "20/20 [==============================] - 0s 4ms/step - loss: 0.6789 - accuracy: 0.7384 - val_loss: 0.3907 - val_accuracy: 0.8751\n",
      "\n",
      "Epoch 00034: saving model to model/keypoint_classifier\\keypoint_classifier.hdf5\n",
      "Epoch 35/1000\n",
      "20/20 [==============================] - 0s 4ms/step - loss: 0.6714 - accuracy: 0.7380 - val_loss: 0.3931 - val_accuracy: 0.8728\n",
      "\n",
      "Epoch 00035: saving model to model/keypoint_classifier\\keypoint_classifier.hdf5\n",
      "Epoch 36/1000\n",
      "20/20 [==============================] - 0s 5ms/step - loss: 0.6624 - accuracy: 0.7392 - val_loss: 0.3773 - val_accuracy: 0.8799\n",
      "\n",
      "Epoch 00036: saving model to model/keypoint_classifier\\keypoint_classifier.hdf5\n",
      "Epoch 37/1000\n",
      "20/20 [==============================] - 0s 4ms/step - loss: 0.6614 - accuracy: 0.7526 - val_loss: 0.3667 - val_accuracy: 0.8775\n"
     ]
    },
    {
     "name": "stdout",
     "output_type": "stream",
     "text": [
      "\n",
      "Epoch 00037: saving model to model/keypoint_classifier\\keypoint_classifier.hdf5\n",
      "Epoch 38/1000\n",
      "20/20 [==============================] - 0s 4ms/step - loss: 0.6366 - accuracy: 0.7494 - val_loss: 0.3609 - val_accuracy: 0.8952\n",
      "\n",
      "Epoch 00038: saving model to model/keypoint_classifier\\keypoint_classifier.hdf5\n",
      "Epoch 39/1000\n",
      "20/20 [==============================] - 0s 4ms/step - loss: 0.6302 - accuracy: 0.7459 - val_loss: 0.3518 - val_accuracy: 0.8893\n",
      "\n",
      "Epoch 00039: saving model to model/keypoint_classifier\\keypoint_classifier.hdf5\n",
      "Epoch 40/1000\n",
      "20/20 [==============================] - 0s 4ms/step - loss: 0.6803 - accuracy: 0.7313 - val_loss: 0.3503 - val_accuracy: 0.8822\n",
      "\n",
      "Epoch 00040: saving model to model/keypoint_classifier\\keypoint_classifier.hdf5\n",
      "Epoch 41/1000\n",
      "20/20 [==============================] - 0s 4ms/step - loss: 0.6248 - accuracy: 0.7490 - val_loss: 0.3446 - val_accuracy: 0.8987\n",
      "\n",
      "Epoch 00041: saving model to model/keypoint_classifier\\keypoint_classifier.hdf5\n",
      "Epoch 42/1000\n",
      "20/20 [==============================] - 0s 4ms/step - loss: 0.6185 - accuracy: 0.7502 - val_loss: 0.3404 - val_accuracy: 0.8975\n",
      "\n",
      "Epoch 00042: saving model to model/keypoint_classifier\\keypoint_classifier.hdf5\n",
      "Epoch 43/1000\n",
      "20/20 [==============================] - 0s 4ms/step - loss: 0.6419 - accuracy: 0.7482 - val_loss: 0.3372 - val_accuracy: 0.8963\n",
      "\n",
      "Epoch 00043: saving model to model/keypoint_classifier\\keypoint_classifier.hdf5\n",
      "Epoch 44/1000\n",
      "20/20 [==============================] - 0s 4ms/step - loss: 0.6122 - accuracy: 0.7533 - val_loss: 0.3272 - val_accuracy: 0.9223\n",
      "\n",
      "Epoch 00044: saving model to model/keypoint_classifier\\keypoint_classifier.hdf5\n",
      "Epoch 45/1000\n",
      "20/20 [==============================] - 0s 4ms/step - loss: 0.6231 - accuracy: 0.7596 - val_loss: 0.3205 - val_accuracy: 0.9187\n",
      "\n",
      "Epoch 00045: saving model to model/keypoint_classifier\\keypoint_classifier.hdf5\n",
      "Epoch 46/1000\n",
      "20/20 [==============================] - 0s 4ms/step - loss: 0.6105 - accuracy: 0.7569 - val_loss: 0.3177 - val_accuracy: 0.9140\n",
      "\n",
      "Epoch 00046: saving model to model/keypoint_classifier\\keypoint_classifier.hdf5\n",
      "Epoch 47/1000\n",
      "20/20 [==============================] - 0s 4ms/step - loss: 0.6100 - accuracy: 0.7592 - val_loss: 0.3191 - val_accuracy: 0.9211\n",
      "\n",
      "Epoch 00047: saving model to model/keypoint_classifier\\keypoint_classifier.hdf5\n",
      "Epoch 48/1000\n",
      "20/20 [==============================] - 0s 4ms/step - loss: 0.6174 - accuracy: 0.7541 - val_loss: 0.3184 - val_accuracy: 0.9011\n",
      "\n",
      "Epoch 00048: saving model to model/keypoint_classifier\\keypoint_classifier.hdf5\n",
      "Epoch 49/1000\n",
      "20/20 [==============================] - 0s 4ms/step - loss: 0.5947 - accuracy: 0.7581 - val_loss: 0.3098 - val_accuracy: 0.9246\n",
      "\n",
      "Epoch 00049: saving model to model/keypoint_classifier\\keypoint_classifier.hdf5\n",
      "Epoch 50/1000\n",
      "20/20 [==============================] - 0s 4ms/step - loss: 0.5973 - accuracy: 0.7588 - val_loss: 0.3056 - val_accuracy: 0.9246\n",
      "\n",
      "Epoch 00050: saving model to model/keypoint_classifier\\keypoint_classifier.hdf5\n",
      "Epoch 51/1000\n",
      "20/20 [==============================] - 0s 4ms/step - loss: 0.5847 - accuracy: 0.7738 - val_loss: 0.3041 - val_accuracy: 0.9128\n",
      "\n",
      "Epoch 00051: saving model to model/keypoint_classifier\\keypoint_classifier.hdf5\n",
      "Epoch 52/1000\n",
      "20/20 [==============================] - 0s 4ms/step - loss: 0.5645 - accuracy: 0.7698 - val_loss: 0.2940 - val_accuracy: 0.9282\n",
      "\n",
      "Epoch 00052: saving model to model/keypoint_classifier\\keypoint_classifier.hdf5\n",
      "Epoch 53/1000\n",
      "20/20 [==============================] - 0s 5ms/step - loss: 0.5748 - accuracy: 0.7632 - val_loss: 0.2919 - val_accuracy: 0.9305\n",
      "\n",
      "Epoch 00053: saving model to model/keypoint_classifier\\keypoint_classifier.hdf5\n",
      "Epoch 54/1000\n",
      "20/20 [==============================] - 0s 5ms/step - loss: 0.5884 - accuracy: 0.7537 - val_loss: 0.2840 - val_accuracy: 0.9340\n",
      "\n",
      "Epoch 00054: saving model to model/keypoint_classifier\\keypoint_classifier.hdf5\n",
      "Epoch 55/1000\n",
      "20/20 [==============================] - 0s 5ms/step - loss: 0.5677 - accuracy: 0.7820 - val_loss: 0.2865 - val_accuracy: 0.9376\n",
      "\n",
      "Epoch 00055: saving model to model/keypoint_classifier\\keypoint_classifier.hdf5\n",
      "Epoch 56/1000\n",
      "20/20 [==============================] - 0s 4ms/step - loss: 0.5688 - accuracy: 0.7742 - val_loss: 0.2854 - val_accuracy: 0.9317\n",
      "\n",
      "Epoch 00056: saving model to model/keypoint_classifier\\keypoint_classifier.hdf5\n",
      "Epoch 57/1000\n",
      "20/20 [==============================] - 0s 4ms/step - loss: 0.5616 - accuracy: 0.7777 - val_loss: 0.2797 - val_accuracy: 0.9293\n",
      "\n",
      "Epoch 00057: saving model to model/keypoint_classifier\\keypoint_classifier.hdf5\n",
      "Epoch 58/1000\n",
      "20/20 [==============================] - 0s 4ms/step - loss: 0.5634 - accuracy: 0.7742 - val_loss: 0.2722 - val_accuracy: 0.9388\n",
      "\n",
      "Epoch 00058: saving model to model/keypoint_classifier\\keypoint_classifier.hdf5\n",
      "Epoch 59/1000\n",
      "20/20 [==============================] - 0s 4ms/step - loss: 0.5604 - accuracy: 0.7773 - val_loss: 0.2709 - val_accuracy: 0.9399\n",
      "\n",
      "Epoch 00059: saving model to model/keypoint_classifier\\keypoint_classifier.hdf5\n",
      "Epoch 60/1000\n",
      "20/20 [==============================] - 0s 4ms/step - loss: 0.5596 - accuracy: 0.7820 - val_loss: 0.2740 - val_accuracy: 0.9270\n",
      "\n",
      "Epoch 00060: saving model to model/keypoint_classifier\\keypoint_classifier.hdf5\n",
      "Epoch 61/1000\n",
      "20/20 [==============================] - 0s 4ms/step - loss: 0.5600 - accuracy: 0.7753 - val_loss: 0.2687 - val_accuracy: 0.9517\n",
      "\n",
      "Epoch 00061: saving model to model/keypoint_classifier\\keypoint_classifier.hdf5\n",
      "Epoch 62/1000\n",
      "20/20 [==============================] - 0s 4ms/step - loss: 0.5513 - accuracy: 0.7848 - val_loss: 0.2648 - val_accuracy: 0.9505\n",
      "\n",
      "Epoch 00062: saving model to model/keypoint_classifier\\keypoint_classifier.hdf5\n",
      "Epoch 63/1000\n",
      "20/20 [==============================] - 0s 4ms/step - loss: 0.5722 - accuracy: 0.7738 - val_loss: 0.2657 - val_accuracy: 0.9376\n",
      "\n",
      "Epoch 00063: saving model to model/keypoint_classifier\\keypoint_classifier.hdf5\n",
      "Epoch 64/1000\n",
      "20/20 [==============================] - 0s 4ms/step - loss: 0.5432 - accuracy: 0.7800 - val_loss: 0.2623 - val_accuracy: 0.9600\n",
      "\n",
      "Epoch 00064: saving model to model/keypoint_classifier\\keypoint_classifier.hdf5\n",
      "Epoch 65/1000\n",
      "20/20 [==============================] - 0s 4ms/step - loss: 0.5603 - accuracy: 0.7859 - val_loss: 0.2607 - val_accuracy: 0.9517\n",
      "\n",
      "Epoch 00065: saving model to model/keypoint_classifier\\keypoint_classifier.hdf5\n",
      "Epoch 66/1000\n",
      "20/20 [==============================] - 0s 4ms/step - loss: 0.5370 - accuracy: 0.7852 - val_loss: 0.2570 - val_accuracy: 0.9529\n",
      "\n",
      "Epoch 00066: saving model to model/keypoint_classifier\\keypoint_classifier.hdf5\n",
      "Epoch 67/1000\n",
      "20/20 [==============================] - 0s 4ms/step - loss: 0.5496 - accuracy: 0.7765 - val_loss: 0.2555 - val_accuracy: 0.9564\n",
      "\n",
      "Epoch 00067: saving model to model/keypoint_classifier\\keypoint_classifier.hdf5\n",
      "Epoch 68/1000\n",
      "20/20 [==============================] - 0s 5ms/step - loss: 0.5326 - accuracy: 0.7973 - val_loss: 0.2535 - val_accuracy: 0.9576\n",
      "\n",
      "Epoch 00068: saving model to model/keypoint_classifier\\keypoint_classifier.hdf5\n",
      "Epoch 69/1000\n",
      "20/20 [==============================] - 0s 4ms/step - loss: 0.5439 - accuracy: 0.7840 - val_loss: 0.2489 - val_accuracy: 0.9505\n",
      "\n",
      "Epoch 00069: saving model to model/keypoint_classifier\\keypoint_classifier.hdf5\n",
      "Epoch 70/1000\n",
      "20/20 [==============================] - 0s 4ms/step - loss: 0.5320 - accuracy: 0.7883 - val_loss: 0.2444 - val_accuracy: 0.9564\n",
      "\n",
      "Epoch 00070: saving model to model/keypoint_classifier\\keypoint_classifier.hdf5\n",
      "Epoch 71/1000\n",
      "20/20 [==============================] - 0s 5ms/step - loss: 0.5508 - accuracy: 0.7812 - val_loss: 0.2408 - val_accuracy: 0.9600\n",
      "\n",
      "Epoch 00071: saving model to model/keypoint_classifier\\keypoint_classifier.hdf5\n",
      "Epoch 72/1000\n",
      "20/20 [==============================] - 0s 4ms/step - loss: 0.5211 - accuracy: 0.7938 - val_loss: 0.2441 - val_accuracy: 0.9588\n",
      "\n",
      "Epoch 00072: saving model to model/keypoint_classifier\\keypoint_classifier.hdf5\n",
      "Epoch 73/1000\n",
      "20/20 [==============================] - 0s 4ms/step - loss: 0.5256 - accuracy: 0.7855 - val_loss: 0.2397 - val_accuracy: 0.9588\n",
      "\n",
      "Epoch 00073: saving model to model/keypoint_classifier\\keypoint_classifier.hdf5\n",
      "Epoch 74/1000\n"
     ]
    },
    {
     "name": "stdout",
     "output_type": "stream",
     "text": [
      "20/20 [==============================] - 0s 4ms/step - loss: 0.5299 - accuracy: 0.7848 - val_loss: 0.2401 - val_accuracy: 0.9494\n",
      "\n",
      "Epoch 00074: saving model to model/keypoint_classifier\\keypoint_classifier.hdf5\n",
      "Epoch 75/1000\n",
      "20/20 [==============================] - 0s 4ms/step - loss: 0.5191 - accuracy: 0.7918 - val_loss: 0.2379 - val_accuracy: 0.9588\n",
      "\n",
      "Epoch 00075: saving model to model/keypoint_classifier\\keypoint_classifier.hdf5\n",
      "Epoch 76/1000\n",
      "20/20 [==============================] - 0s 4ms/step - loss: 0.5172 - accuracy: 0.7910 - val_loss: 0.2352 - val_accuracy: 0.9600\n",
      "\n",
      "Epoch 00076: saving model to model/keypoint_classifier\\keypoint_classifier.hdf5\n",
      "Epoch 77/1000\n",
      "20/20 [==============================] - 0s 5ms/step - loss: 0.4961 - accuracy: 0.7997 - val_loss: 0.2306 - val_accuracy: 0.9552\n",
      "\n",
      "Epoch 00077: saving model to model/keypoint_classifier\\keypoint_classifier.hdf5\n",
      "Epoch 78/1000\n",
      "20/20 [==============================] - 0s 5ms/step - loss: 0.5169 - accuracy: 0.7922 - val_loss: 0.2308 - val_accuracy: 0.9600\n",
      "\n",
      "Epoch 00078: saving model to model/keypoint_classifier\\keypoint_classifier.hdf5\n",
      "Epoch 79/1000\n",
      "20/20 [==============================] - 0s 4ms/step - loss: 0.5386 - accuracy: 0.7895 - val_loss: 0.2369 - val_accuracy: 0.9552\n",
      "\n",
      "Epoch 00079: saving model to model/keypoint_classifier\\keypoint_classifier.hdf5\n",
      "Epoch 80/1000\n",
      "20/20 [==============================] - 0s 4ms/step - loss: 0.5227 - accuracy: 0.7938 - val_loss: 0.2360 - val_accuracy: 0.9564\n",
      "\n",
      "Epoch 00080: saving model to model/keypoint_classifier\\keypoint_classifier.hdf5\n",
      "Epoch 81/1000\n",
      "20/20 [==============================] - 0s 5ms/step - loss: 0.5152 - accuracy: 0.7962 - val_loss: 0.2292 - val_accuracy: 0.9635\n",
      "\n",
      "Epoch 00081: saving model to model/keypoint_classifier\\keypoint_classifier.hdf5\n",
      "Epoch 82/1000\n",
      "20/20 [==============================] - 0s 5ms/step - loss: 0.4967 - accuracy: 0.7977 - val_loss: 0.2265 - val_accuracy: 0.9588\n",
      "\n",
      "Epoch 00082: saving model to model/keypoint_classifier\\keypoint_classifier.hdf5\n",
      "Epoch 83/1000\n",
      "20/20 [==============================] - 0s 5ms/step - loss: 0.5139 - accuracy: 0.7907 - val_loss: 0.2280 - val_accuracy: 0.9611\n",
      "\n",
      "Epoch 00083: saving model to model/keypoint_classifier\\keypoint_classifier.hdf5\n",
      "Epoch 84/1000\n",
      "20/20 [==============================] - 0s 4ms/step - loss: 0.4916 - accuracy: 0.8040 - val_loss: 0.2218 - val_accuracy: 0.9600\n",
      "\n",
      "Epoch 00084: saving model to model/keypoint_classifier\\keypoint_classifier.hdf5\n",
      "Epoch 85/1000\n",
      "20/20 [==============================] - 0s 4ms/step - loss: 0.5234 - accuracy: 0.7918 - val_loss: 0.2159 - val_accuracy: 0.9658\n",
      "\n",
      "Epoch 00085: saving model to model/keypoint_classifier\\keypoint_classifier.hdf5\n",
      "Epoch 86/1000\n",
      "20/20 [==============================] - 0s 4ms/step - loss: 0.5106 - accuracy: 0.7985 - val_loss: 0.2213 - val_accuracy: 0.9588\n",
      "\n",
      "Epoch 00086: saving model to model/keypoint_classifier\\keypoint_classifier.hdf5\n",
      "Epoch 87/1000\n",
      "20/20 [==============================] - 0s 4ms/step - loss: 0.4979 - accuracy: 0.7989 - val_loss: 0.2216 - val_accuracy: 0.9588\n",
      "\n",
      "Epoch 00087: saving model to model/keypoint_classifier\\keypoint_classifier.hdf5\n",
      "Epoch 88/1000\n",
      "20/20 [==============================] - 0s 4ms/step - loss: 0.4994 - accuracy: 0.8016 - val_loss: 0.2159 - val_accuracy: 0.9611\n",
      "\n",
      "Epoch 00088: saving model to model/keypoint_classifier\\keypoint_classifier.hdf5\n",
      "Epoch 89/1000\n",
      "20/20 [==============================] - 0s 5ms/step - loss: 0.4817 - accuracy: 0.8060 - val_loss: 0.2100 - val_accuracy: 0.9635\n",
      "\n",
      "Epoch 00089: saving model to model/keypoint_classifier\\keypoint_classifier.hdf5\n",
      "Epoch 90/1000\n",
      "20/20 [==============================] - 0s 5ms/step - loss: 0.4849 - accuracy: 0.8052 - val_loss: 0.2069 - val_accuracy: 0.9682\n",
      "\n",
      "Epoch 00090: saving model to model/keypoint_classifier\\keypoint_classifier.hdf5\n",
      "Epoch 91/1000\n",
      "20/20 [==============================] - 0s 4ms/step - loss: 0.4989 - accuracy: 0.7934 - val_loss: 0.2059 - val_accuracy: 0.9682\n",
      "\n",
      "Epoch 00091: saving model to model/keypoint_classifier\\keypoint_classifier.hdf5\n",
      "Epoch 92/1000\n",
      "20/20 [==============================] - 0s 5ms/step - loss: 0.4914 - accuracy: 0.8032 - val_loss: 0.2122 - val_accuracy: 0.9670\n",
      "\n",
      "Epoch 00092: saving model to model/keypoint_classifier\\keypoint_classifier.hdf5\n",
      "Epoch 93/1000\n",
      "20/20 [==============================] - 0s 4ms/step - loss: 0.5106 - accuracy: 0.7954 - val_loss: 0.2117 - val_accuracy: 0.9611\n",
      "\n",
      "Epoch 00093: saving model to model/keypoint_classifier\\keypoint_classifier.hdf5\n",
      "Epoch 94/1000\n",
      "20/20 [==============================] - 0s 4ms/step - loss: 0.4853 - accuracy: 0.8091 - val_loss: 0.2099 - val_accuracy: 0.9694\n",
      "\n",
      "Epoch 00094: saving model to model/keypoint_classifier\\keypoint_classifier.hdf5\n",
      "Epoch 95/1000\n",
      "20/20 [==============================] - 0s 4ms/step - loss: 0.4902 - accuracy: 0.8020 - val_loss: 0.2143 - val_accuracy: 0.9658\n",
      "\n",
      "Epoch 00095: saving model to model/keypoint_classifier\\keypoint_classifier.hdf5\n",
      "Epoch 96/1000\n",
      "20/20 [==============================] - 0s 4ms/step - loss: 0.5058 - accuracy: 0.7950 - val_loss: 0.2168 - val_accuracy: 0.9647\n",
      "\n",
      "Epoch 00096: saving model to model/keypoint_classifier\\keypoint_classifier.hdf5\n",
      "Epoch 97/1000\n",
      "20/20 [==============================] - 0s 4ms/step - loss: 0.4697 - accuracy: 0.8174 - val_loss: 0.2134 - val_accuracy: 0.9623\n",
      "\n",
      "Epoch 00097: saving model to model/keypoint_classifier\\keypoint_classifier.hdf5\n",
      "Epoch 98/1000\n",
      "20/20 [==============================] - 0s 4ms/step - loss: 0.4933 - accuracy: 0.8115 - val_loss: 0.2075 - val_accuracy: 0.9694\n",
      "\n",
      "Epoch 00098: saving model to model/keypoint_classifier\\keypoint_classifier.hdf5\n",
      "Epoch 99/1000\n",
      "20/20 [==============================] - 0s 4ms/step - loss: 0.4804 - accuracy: 0.8111 - val_loss: 0.2063 - val_accuracy: 0.9706\n",
      "\n",
      "Epoch 00099: saving model to model/keypoint_classifier\\keypoint_classifier.hdf5\n",
      "Epoch 100/1000\n",
      "20/20 [==============================] - 0s 5ms/step - loss: 0.4808 - accuracy: 0.8091 - val_loss: 0.2090 - val_accuracy: 0.9670\n",
      "\n",
      "Epoch 00100: saving model to model/keypoint_classifier\\keypoint_classifier.hdf5\n",
      "Epoch 101/1000\n",
      "20/20 [==============================] - 0s 5ms/step - loss: 0.4707 - accuracy: 0.8052 - val_loss: 0.2132 - val_accuracy: 0.9552\n",
      "\n",
      "Epoch 00101: saving model to model/keypoint_classifier\\keypoint_classifier.hdf5\n",
      "Epoch 102/1000\n",
      "20/20 [==============================] - 0s 4ms/step - loss: 0.4540 - accuracy: 0.8115 - val_loss: 0.2053 - val_accuracy: 0.9682\n",
      "\n",
      "Epoch 00102: saving model to model/keypoint_classifier\\keypoint_classifier.hdf5\n",
      "Epoch 103/1000\n",
      "20/20 [==============================] - 0s 5ms/step - loss: 0.4662 - accuracy: 0.8189 - val_loss: 0.2034 - val_accuracy: 0.9694\n",
      "\n",
      "Epoch 00103: saving model to model/keypoint_classifier\\keypoint_classifier.hdf5\n",
      "Epoch 104/1000\n",
      "20/20 [==============================] - 0s 4ms/step - loss: 0.4793 - accuracy: 0.8115 - val_loss: 0.2057 - val_accuracy: 0.9658\n",
      "\n",
      "Epoch 00104: saving model to model/keypoint_classifier\\keypoint_classifier.hdf5\n",
      "Epoch 105/1000\n",
      "20/20 [==============================] - 0s 4ms/step - loss: 0.4641 - accuracy: 0.8052 - val_loss: 0.2008 - val_accuracy: 0.9706\n",
      "\n",
      "Epoch 00105: saving model to model/keypoint_classifier\\keypoint_classifier.hdf5\n",
      "Epoch 106/1000\n",
      "20/20 [==============================] - 0s 4ms/step - loss: 0.4636 - accuracy: 0.8052 - val_loss: 0.1980 - val_accuracy: 0.9753\n",
      "\n",
      "Epoch 00106: saving model to model/keypoint_classifier\\keypoint_classifier.hdf5\n",
      "Epoch 107/1000\n",
      "20/20 [==============================] - 0s 4ms/step - loss: 0.4635 - accuracy: 0.8056 - val_loss: 0.1951 - val_accuracy: 0.9753\n",
      "\n",
      "Epoch 00107: saving model to model/keypoint_classifier\\keypoint_classifier.hdf5\n",
      "Epoch 108/1000\n",
      "20/20 [==============================] - 0s 5ms/step - loss: 0.4642 - accuracy: 0.8162 - val_loss: 0.1994 - val_accuracy: 0.9635\n",
      "\n",
      "Epoch 00108: saving model to model/keypoint_classifier\\keypoint_classifier.hdf5\n",
      "Epoch 109/1000\n",
      "20/20 [==============================] - 0s 5ms/step - loss: 0.4598 - accuracy: 0.8236 - val_loss: 0.1928 - val_accuracy: 0.9717\n",
      "\n",
      "Epoch 00109: saving model to model/keypoint_classifier\\keypoint_classifier.hdf5\n",
      "Epoch 110/1000\n",
      "20/20 [==============================] - 0s 5ms/step - loss: 0.4725 - accuracy: 0.8040 - val_loss: 0.1940 - val_accuracy: 0.9658\n"
     ]
    },
    {
     "name": "stdout",
     "output_type": "stream",
     "text": [
      "\n",
      "Epoch 00110: saving model to model/keypoint_classifier\\keypoint_classifier.hdf5\n",
      "Epoch 111/1000\n",
      "20/20 [==============================] - 0s 4ms/step - loss: 0.4648 - accuracy: 0.8079 - val_loss: 0.1932 - val_accuracy: 0.9670\n",
      "\n",
      "Epoch 00111: saving model to model/keypoint_classifier\\keypoint_classifier.hdf5\n",
      "Epoch 112/1000\n",
      "20/20 [==============================] - 0s 4ms/step - loss: 0.4623 - accuracy: 0.8225 - val_loss: 0.1904 - val_accuracy: 0.9753\n",
      "\n",
      "Epoch 00112: saving model to model/keypoint_classifier\\keypoint_classifier.hdf5\n",
      "Epoch 113/1000\n",
      "20/20 [==============================] - 0s 4ms/step - loss: 0.4579 - accuracy: 0.8126 - val_loss: 0.1919 - val_accuracy: 0.9670\n",
      "\n",
      "Epoch 00113: saving model to model/keypoint_classifier\\keypoint_classifier.hdf5\n",
      "Epoch 114/1000\n",
      "20/20 [==============================] - 0s 5ms/step - loss: 0.4563 - accuracy: 0.8217 - val_loss: 0.1954 - val_accuracy: 0.9694\n",
      "\n",
      "Epoch 00114: saving model to model/keypoint_classifier\\keypoint_classifier.hdf5\n",
      "Epoch 115/1000\n",
      "20/20 [==============================] - 0s 4ms/step - loss: 0.4452 - accuracy: 0.8205 - val_loss: 0.1974 - val_accuracy: 0.9647\n",
      "\n",
      "Epoch 00115: saving model to model/keypoint_classifier\\keypoint_classifier.hdf5\n",
      "Epoch 116/1000\n",
      "20/20 [==============================] - 0s 4ms/step - loss: 0.4691 - accuracy: 0.8130 - val_loss: 0.1944 - val_accuracy: 0.9729\n",
      "\n",
      "Epoch 00116: saving model to model/keypoint_classifier\\keypoint_classifier.hdf5\n",
      "Epoch 117/1000\n",
      "20/20 [==============================] - 0s 4ms/step - loss: 0.4541 - accuracy: 0.8162 - val_loss: 0.1959 - val_accuracy: 0.9541\n",
      "\n",
      "Epoch 00117: saving model to model/keypoint_classifier\\keypoint_classifier.hdf5\n",
      "Epoch 118/1000\n",
      "20/20 [==============================] - 0s 4ms/step - loss: 0.4676 - accuracy: 0.8123 - val_loss: 0.1955 - val_accuracy: 0.9682\n",
      "\n",
      "Epoch 00118: saving model to model/keypoint_classifier\\keypoint_classifier.hdf5\n",
      "Epoch 119/1000\n",
      "20/20 [==============================] - 0s 4ms/step - loss: 0.4444 - accuracy: 0.8181 - val_loss: 0.1990 - val_accuracy: 0.9682\n",
      "\n",
      "Epoch 00119: saving model to model/keypoint_classifier\\keypoint_classifier.hdf5\n",
      "Epoch 120/1000\n",
      "20/20 [==============================] - 0s 5ms/step - loss: 0.4634 - accuracy: 0.8178 - val_loss: 0.1994 - val_accuracy: 0.9670\n",
      "\n",
      "Epoch 00120: saving model to model/keypoint_classifier\\keypoint_classifier.hdf5\n",
      "Epoch 121/1000\n",
      "20/20 [==============================] - 0s 5ms/step - loss: 0.4434 - accuracy: 0.8342 - val_loss: 0.1979 - val_accuracy: 0.9706\n",
      "\n",
      "Epoch 00121: saving model to model/keypoint_classifier\\keypoint_classifier.hdf5\n",
      "Epoch 122/1000\n",
      "20/20 [==============================] - 0s 5ms/step - loss: 0.4522 - accuracy: 0.8146 - val_loss: 0.1952 - val_accuracy: 0.9682\n",
      "\n",
      "Epoch 00122: saving model to model/keypoint_classifier\\keypoint_classifier.hdf5\n",
      "Epoch 123/1000\n",
      "20/20 [==============================] - 0s 4ms/step - loss: 0.4684 - accuracy: 0.8162 - val_loss: 0.1985 - val_accuracy: 0.9658\n",
      "\n",
      "Epoch 00123: saving model to model/keypoint_classifier\\keypoint_classifier.hdf5\n",
      "Epoch 124/1000\n",
      "20/20 [==============================] - 0s 4ms/step - loss: 0.4322 - accuracy: 0.8260 - val_loss: 0.1897 - val_accuracy: 0.9658\n",
      "\n",
      "Epoch 00124: saving model to model/keypoint_classifier\\keypoint_classifier.hdf5\n",
      "Epoch 125/1000\n",
      "20/20 [==============================] - 0s 4ms/step - loss: 0.4552 - accuracy: 0.8209 - val_loss: 0.1871 - val_accuracy: 0.9682\n",
      "\n",
      "Epoch 00125: saving model to model/keypoint_classifier\\keypoint_classifier.hdf5\n",
      "Epoch 126/1000\n",
      "20/20 [==============================] - 0s 5ms/step - loss: 0.4600 - accuracy: 0.8013 - val_loss: 0.1928 - val_accuracy: 0.9706\n",
      "\n",
      "Epoch 00126: saving model to model/keypoint_classifier\\keypoint_classifier.hdf5\n",
      "Epoch 127/1000\n",
      "20/20 [==============================] - 0s 4ms/step - loss: 0.4546 - accuracy: 0.8193 - val_loss: 0.2032 - val_accuracy: 0.9600\n",
      "\n",
      "Epoch 00127: saving model to model/keypoint_classifier\\keypoint_classifier.hdf5\n",
      "Epoch 128/1000\n",
      "20/20 [==============================] - 0s 4ms/step - loss: 0.4458 - accuracy: 0.8252 - val_loss: 0.1916 - val_accuracy: 0.9717\n",
      "\n",
      "Epoch 00128: saving model to model/keypoint_classifier\\keypoint_classifier.hdf5\n",
      "Epoch 129/1000\n",
      "20/20 [==============================] - 0s 4ms/step - loss: 0.4454 - accuracy: 0.8197 - val_loss: 0.1882 - val_accuracy: 0.9741\n",
      "\n",
      "Epoch 00129: saving model to model/keypoint_classifier\\keypoint_classifier.hdf5\n",
      "Epoch 130/1000\n",
      "20/20 [==============================] - 0s 4ms/step - loss: 0.4357 - accuracy: 0.8295 - val_loss: 0.1881 - val_accuracy: 0.9717\n",
      "\n",
      "Epoch 00130: saving model to model/keypoint_classifier\\keypoint_classifier.hdf5\n",
      "Epoch 131/1000\n",
      "20/20 [==============================] - 0s 4ms/step - loss: 0.4364 - accuracy: 0.8291 - val_loss: 0.1941 - val_accuracy: 0.9741\n",
      "\n",
      "Epoch 00131: saving model to model/keypoint_classifier\\keypoint_classifier.hdf5\n",
      "Epoch 132/1000\n",
      "20/20 [==============================] - 0s 4ms/step - loss: 0.4284 - accuracy: 0.8272 - val_loss: 0.1899 - val_accuracy: 0.9635\n",
      "\n",
      "Epoch 00132: saving model to model/keypoint_classifier\\keypoint_classifier.hdf5\n",
      "Epoch 133/1000\n",
      "20/20 [==============================] - 0s 4ms/step - loss: 0.4263 - accuracy: 0.8295 - val_loss: 0.1870 - val_accuracy: 0.9706\n",
      "\n",
      "Epoch 00133: saving model to model/keypoint_classifier\\keypoint_classifier.hdf5\n",
      "Epoch 134/1000\n",
      "20/20 [==============================] - 0s 4ms/step - loss: 0.4380 - accuracy: 0.8327 - val_loss: 0.1767 - val_accuracy: 0.9717\n",
      "\n",
      "Epoch 00134: saving model to model/keypoint_classifier\\keypoint_classifier.hdf5\n",
      "Epoch 135/1000\n",
      "20/20 [==============================] - 0s 5ms/step - loss: 0.4303 - accuracy: 0.8217 - val_loss: 0.1794 - val_accuracy: 0.9741\n",
      "\n",
      "Epoch 00135: saving model to model/keypoint_classifier\\keypoint_classifier.hdf5\n",
      "Epoch 136/1000\n",
      "20/20 [==============================] - 0s 4ms/step - loss: 0.4438 - accuracy: 0.8288 - val_loss: 0.1828 - val_accuracy: 0.9741\n",
      "\n",
      "Epoch 00136: saving model to model/keypoint_classifier\\keypoint_classifier.hdf5\n",
      "Epoch 137/1000\n",
      "20/20 [==============================] - 0s 4ms/step - loss: 0.4441 - accuracy: 0.8197 - val_loss: 0.1919 - val_accuracy: 0.9682\n",
      "\n",
      "Epoch 00137: saving model to model/keypoint_classifier\\keypoint_classifier.hdf5\n",
      "Epoch 138/1000\n",
      "20/20 [==============================] - 0s 5ms/step - loss: 0.4429 - accuracy: 0.8229 - val_loss: 0.1904 - val_accuracy: 0.9647\n",
      "\n",
      "Epoch 00138: saving model to model/keypoint_classifier\\keypoint_classifier.hdf5\n",
      "Epoch 139/1000\n",
      "20/20 [==============================] - 0s 5ms/step - loss: 0.4463 - accuracy: 0.8213 - val_loss: 0.1861 - val_accuracy: 0.9706\n",
      "\n",
      "Epoch 00139: saving model to model/keypoint_classifier\\keypoint_classifier.hdf5\n",
      "Epoch 140/1000\n",
      "20/20 [==============================] - 0s 4ms/step - loss: 0.4463 - accuracy: 0.8358 - val_loss: 0.1952 - val_accuracy: 0.9647\n",
      "\n",
      "Epoch 00140: saving model to model/keypoint_classifier\\keypoint_classifier.hdf5\n",
      "Epoch 141/1000\n",
      "20/20 [==============================] - 0s 4ms/step - loss: 0.4306 - accuracy: 0.8315 - val_loss: 0.1866 - val_accuracy: 0.9658\n",
      "\n",
      "Epoch 00141: saving model to model/keypoint_classifier\\keypoint_classifier.hdf5\n",
      "Epoch 142/1000\n",
      "20/20 [==============================] - 0s 5ms/step - loss: 0.4142 - accuracy: 0.8350 - val_loss: 0.1830 - val_accuracy: 0.9706\n",
      "\n",
      "Epoch 00142: saving model to model/keypoint_classifier\\keypoint_classifier.hdf5\n",
      "Epoch 143/1000\n",
      "20/20 [==============================] - 0s 5ms/step - loss: 0.4459 - accuracy: 0.8284 - val_loss: 0.1861 - val_accuracy: 0.9741\n",
      "\n",
      "Epoch 00143: saving model to model/keypoint_classifier\\keypoint_classifier.hdf5\n",
      "Epoch 144/1000\n",
      "20/20 [==============================] - 0s 4ms/step - loss: 0.4587 - accuracy: 0.8099 - val_loss: 0.1864 - val_accuracy: 0.9776\n",
      "\n",
      "Epoch 00144: saving model to model/keypoint_classifier\\keypoint_classifier.hdf5\n",
      "Epoch 145/1000\n",
      "20/20 [==============================] - 0s 4ms/step - loss: 0.4486 - accuracy: 0.8162 - val_loss: 0.1940 - val_accuracy: 0.9552\n",
      "\n",
      "Epoch 00145: saving model to model/keypoint_classifier\\keypoint_classifier.hdf5\n",
      "Epoch 146/1000\n",
      "20/20 [==============================] - 0s 4ms/step - loss: 0.4216 - accuracy: 0.8362 - val_loss: 0.1850 - val_accuracy: 0.9670\n",
      "\n",
      "Epoch 00146: saving model to model/keypoint_classifier\\keypoint_classifier.hdf5\n",
      "Epoch 147/1000\n"
     ]
    },
    {
     "name": "stdout",
     "output_type": "stream",
     "text": [
      "20/20 [==============================] - 0s 4ms/step - loss: 0.4371 - accuracy: 0.8229 - val_loss: 0.1892 - val_accuracy: 0.9682\n",
      "\n",
      "Epoch 00147: saving model to model/keypoint_classifier\\keypoint_classifier.hdf5\n",
      "Epoch 148/1000\n",
      "20/20 [==============================] - 0s 5ms/step - loss: 0.4207 - accuracy: 0.8382 - val_loss: 0.1816 - val_accuracy: 0.9776\n",
      "\n",
      "Epoch 00148: saving model to model/keypoint_classifier\\keypoint_classifier.hdf5\n",
      "Epoch 149/1000\n",
      "20/20 [==============================] - 0s 5ms/step - loss: 0.4121 - accuracy: 0.8370 - val_loss: 0.1844 - val_accuracy: 0.9647\n",
      "\n",
      "Epoch 00149: saving model to model/keypoint_classifier\\keypoint_classifier.hdf5\n",
      "Epoch 150/1000\n",
      "20/20 [==============================] - 0s 5ms/step - loss: 0.4390 - accuracy: 0.8178 - val_loss: 0.1808 - val_accuracy: 0.9694\n",
      "\n",
      "Epoch 00150: saving model to model/keypoint_classifier\\keypoint_classifier.hdf5\n",
      "Epoch 151/1000\n",
      "20/20 [==============================] - 0s 5ms/step - loss: 0.4157 - accuracy: 0.8323 - val_loss: 0.1813 - val_accuracy: 0.9776\n",
      "\n",
      "Epoch 00151: saving model to model/keypoint_classifier\\keypoint_classifier.hdf5\n",
      "Epoch 152/1000\n",
      "20/20 [==============================] - 0s 4ms/step - loss: 0.4410 - accuracy: 0.8264 - val_loss: 0.1866 - val_accuracy: 0.9564\n",
      "\n",
      "Epoch 00152: saving model to model/keypoint_classifier\\keypoint_classifier.hdf5\n",
      "Epoch 153/1000\n",
      "20/20 [==============================] - 0s 4ms/step - loss: 0.4247 - accuracy: 0.8335 - val_loss: 0.1796 - val_accuracy: 0.9611\n",
      "\n",
      "Epoch 00153: saving model to model/keypoint_classifier\\keypoint_classifier.hdf5\n",
      "Epoch 154/1000\n",
      "20/20 [==============================] - 0s 4ms/step - loss: 0.4091 - accuracy: 0.8437 - val_loss: 0.1747 - val_accuracy: 0.9694\n",
      "\n",
      "Epoch 00154: saving model to model/keypoint_classifier\\keypoint_classifier.hdf5\n",
      "Epoch 155/1000\n",
      "20/20 [==============================] - 0s 4ms/step - loss: 0.4185 - accuracy: 0.8346 - val_loss: 0.1744 - val_accuracy: 0.9776\n",
      "\n",
      "Epoch 00155: saving model to model/keypoint_classifier\\keypoint_classifier.hdf5\n",
      "Epoch 156/1000\n",
      "20/20 [==============================] - 0s 4ms/step - loss: 0.4313 - accuracy: 0.8342 - val_loss: 0.1828 - val_accuracy: 0.9552\n",
      "\n",
      "Epoch 00156: saving model to model/keypoint_classifier\\keypoint_classifier.hdf5\n",
      "Epoch 157/1000\n",
      "20/20 [==============================] - 0s 4ms/step - loss: 0.4192 - accuracy: 0.8370 - val_loss: 0.1803 - val_accuracy: 0.9694\n",
      "\n",
      "Epoch 00157: saving model to model/keypoint_classifier\\keypoint_classifier.hdf5\n",
      "Epoch 158/1000\n",
      "20/20 [==============================] - 0s 4ms/step - loss: 0.4226 - accuracy: 0.8339 - val_loss: 0.1835 - val_accuracy: 0.9623\n",
      "\n",
      "Epoch 00158: saving model to model/keypoint_classifier\\keypoint_classifier.hdf5\n",
      "Epoch 159/1000\n",
      "20/20 [==============================] - 0s 4ms/step - loss: 0.4064 - accuracy: 0.8382 - val_loss: 0.1811 - val_accuracy: 0.9694\n",
      "\n",
      "Epoch 00159: saving model to model/keypoint_classifier\\keypoint_classifier.hdf5\n",
      "Epoch 160/1000\n",
      "20/20 [==============================] - 0s 4ms/step - loss: 0.4165 - accuracy: 0.8370 - val_loss: 0.1821 - val_accuracy: 0.9623\n",
      "\n",
      "Epoch 00160: saving model to model/keypoint_classifier\\keypoint_classifier.hdf5\n",
      "Epoch 161/1000\n",
      "20/20 [==============================] - 0s 4ms/step - loss: 0.4226 - accuracy: 0.8370 - val_loss: 0.1790 - val_accuracy: 0.9694\n",
      "\n",
      "Epoch 00161: saving model to model/keypoint_classifier\\keypoint_classifier.hdf5\n",
      "Epoch 162/1000\n",
      "20/20 [==============================] - 0s 4ms/step - loss: 0.3897 - accuracy: 0.8507 - val_loss: 0.1691 - val_accuracy: 0.9729\n",
      "\n",
      "Epoch 00162: saving model to model/keypoint_classifier\\keypoint_classifier.hdf5\n",
      "Epoch 163/1000\n",
      "20/20 [==============================] - 0s 4ms/step - loss: 0.4172 - accuracy: 0.8252 - val_loss: 0.1730 - val_accuracy: 0.9717\n",
      "\n",
      "Epoch 00163: saving model to model/keypoint_classifier\\keypoint_classifier.hdf5\n",
      "Epoch 164/1000\n",
      "20/20 [==============================] - 0s 4ms/step - loss: 0.4244 - accuracy: 0.8358 - val_loss: 0.1735 - val_accuracy: 0.9764\n",
      "\n",
      "Epoch 00164: saving model to model/keypoint_classifier\\keypoint_classifier.hdf5\n",
      "Epoch 165/1000\n",
      "20/20 [==============================] - 0s 4ms/step - loss: 0.3963 - accuracy: 0.8484 - val_loss: 0.1742 - val_accuracy: 0.9694\n",
      "\n",
      "Epoch 00165: saving model to model/keypoint_classifier\\keypoint_classifier.hdf5\n",
      "Epoch 166/1000\n",
      "20/20 [==============================] - 0s 4ms/step - loss: 0.4315 - accuracy: 0.8299 - val_loss: 0.1681 - val_accuracy: 0.9741\n",
      "\n",
      "Epoch 00166: saving model to model/keypoint_classifier\\keypoint_classifier.hdf5\n",
      "Epoch 167/1000\n",
      "20/20 [==============================] - 0s 4ms/step - loss: 0.4103 - accuracy: 0.8386 - val_loss: 0.1689 - val_accuracy: 0.9753\n",
      "\n",
      "Epoch 00167: saving model to model/keypoint_classifier\\keypoint_classifier.hdf5\n",
      "Epoch 168/1000\n",
      "20/20 [==============================] - 0s 4ms/step - loss: 0.4170 - accuracy: 0.8299 - val_loss: 0.1689 - val_accuracy: 0.9764\n",
      "\n",
      "Epoch 00168: saving model to model/keypoint_classifier\\keypoint_classifier.hdf5\n",
      "Epoch 169/1000\n",
      "20/20 [==============================] - 0s 4ms/step - loss: 0.3938 - accuracy: 0.8472 - val_loss: 0.1696 - val_accuracy: 0.9776\n",
      "\n",
      "Epoch 00169: saving model to model/keypoint_classifier\\keypoint_classifier.hdf5\n",
      "Epoch 170/1000\n",
      "20/20 [==============================] - 0s 4ms/step - loss: 0.4006 - accuracy: 0.8472 - val_loss: 0.1761 - val_accuracy: 0.9694\n",
      "\n",
      "Epoch 00170: saving model to model/keypoint_classifier\\keypoint_classifier.hdf5\n",
      "Epoch 171/1000\n",
      "20/20 [==============================] - 0s 4ms/step - loss: 0.3837 - accuracy: 0.8464 - val_loss: 0.1747 - val_accuracy: 0.9682\n",
      "\n",
      "Epoch 00171: saving model to model/keypoint_classifier\\keypoint_classifier.hdf5\n",
      "Epoch 172/1000\n",
      "20/20 [==============================] - 0s 4ms/step - loss: 0.3847 - accuracy: 0.8472 - val_loss: 0.1740 - val_accuracy: 0.9729\n",
      "\n",
      "Epoch 00172: saving model to model/keypoint_classifier\\keypoint_classifier.hdf5\n",
      "Epoch 173/1000\n",
      "20/20 [==============================] - 0s 4ms/step - loss: 0.4051 - accuracy: 0.8421 - val_loss: 0.1807 - val_accuracy: 0.9588\n",
      "\n",
      "Epoch 00173: saving model to model/keypoint_classifier\\keypoint_classifier.hdf5\n",
      "Epoch 174/1000\n",
      "20/20 [==============================] - 0s 4ms/step - loss: 0.4160 - accuracy: 0.8350 - val_loss: 0.1806 - val_accuracy: 0.9717\n",
      "\n",
      "Epoch 00174: saving model to model/keypoint_classifier\\keypoint_classifier.hdf5\n",
      "Epoch 175/1000\n",
      "20/20 [==============================] - 0s 5ms/step - loss: 0.4071 - accuracy: 0.8401 - val_loss: 0.1773 - val_accuracy: 0.9706\n",
      "\n",
      "Epoch 00175: saving model to model/keypoint_classifier\\keypoint_classifier.hdf5\n",
      "Epoch 176/1000\n",
      "20/20 [==============================] - 0s 4ms/step - loss: 0.4028 - accuracy: 0.8299 - val_loss: 0.1730 - val_accuracy: 0.9729\n",
      "\n",
      "Epoch 00176: saving model to model/keypoint_classifier\\keypoint_classifier.hdf5\n",
      "Epoch 177/1000\n",
      "20/20 [==============================] - 0s 4ms/step - loss: 0.4116 - accuracy: 0.8272 - val_loss: 0.1759 - val_accuracy: 0.9682\n",
      "\n",
      "Epoch 00177: saving model to model/keypoint_classifier\\keypoint_classifier.hdf5\n",
      "Epoch 178/1000\n",
      "20/20 [==============================] - 0s 4ms/step - loss: 0.3989 - accuracy: 0.8370 - val_loss: 0.1741 - val_accuracy: 0.9776\n",
      "\n",
      "Epoch 00178: saving model to model/keypoint_classifier\\keypoint_classifier.hdf5\n",
      "Epoch 179/1000\n",
      "20/20 [==============================] - 0s 4ms/step - loss: 0.3939 - accuracy: 0.8488 - val_loss: 0.1836 - val_accuracy: 0.9470\n",
      "\n",
      "Epoch 00179: saving model to model/keypoint_classifier\\keypoint_classifier.hdf5\n",
      "Epoch 180/1000\n",
      "20/20 [==============================] - 0s 4ms/step - loss: 0.4081 - accuracy: 0.8449 - val_loss: 0.1761 - val_accuracy: 0.9694\n",
      "\n",
      "Epoch 00180: saving model to model/keypoint_classifier\\keypoint_classifier.hdf5\n",
      "Epoch 181/1000\n",
      "20/20 [==============================] - 0s 4ms/step - loss: 0.4036 - accuracy: 0.8405 - val_loss: 0.1779 - val_accuracy: 0.9588\n",
      "\n",
      "Epoch 00181: saving model to model/keypoint_classifier\\keypoint_classifier.hdf5\n",
      "Epoch 182/1000\n",
      "20/20 [==============================] - 0s 4ms/step - loss: 0.3931 - accuracy: 0.8449 - val_loss: 0.1684 - val_accuracy: 0.9788\n",
      "\n",
      "Epoch 00182: saving model to model/keypoint_classifier\\keypoint_classifier.hdf5\n",
      "Epoch 183/1000\n",
      "20/20 [==============================] - 0s 5ms/step - loss: 0.3738 - accuracy: 0.8578 - val_loss: 0.1738 - val_accuracy: 0.9658\n"
     ]
    },
    {
     "name": "stdout",
     "output_type": "stream",
     "text": [
      "\n",
      "Epoch 00183: saving model to model/keypoint_classifier\\keypoint_classifier.hdf5\n",
      "Epoch 184/1000\n",
      "20/20 [==============================] - 0s 4ms/step - loss: 0.3986 - accuracy: 0.8500 - val_loss: 0.1700 - val_accuracy: 0.9682\n",
      "\n",
      "Epoch 00184: saving model to model/keypoint_classifier\\keypoint_classifier.hdf5\n",
      "Epoch 185/1000\n",
      "20/20 [==============================] - 0s 4ms/step - loss: 0.3984 - accuracy: 0.8382 - val_loss: 0.1803 - val_accuracy: 0.9458\n",
      "\n",
      "Epoch 00185: saving model to model/keypoint_classifier\\keypoint_classifier.hdf5\n",
      "Epoch 186/1000\n",
      "20/20 [==============================] - 0s 4ms/step - loss: 0.3647 - accuracy: 0.8507 - val_loss: 0.1754 - val_accuracy: 0.9706\n",
      "\n",
      "Epoch 00186: saving model to model/keypoint_classifier\\keypoint_classifier.hdf5\n",
      "Epoch 00186: early stopping\n"
     ]
    },
    {
     "data": {
      "text/plain": [
       "<tensorflow.python.keras.callbacks.History at 0x2a3eaf22b80>"
      ]
     },
     "execution_count": 33,
     "metadata": {},
     "output_type": "execute_result"
    }
   ],
   "source": [
    "model.fit(\n",
    "    X_train,\n",
    "    y_train,\n",
    "    epochs=1000,\n",
    "    batch_size=128,\n",
    "    validation_data=(X_test, y_test),\n",
    "    callbacks=[cp_callback, es_callback]\n",
    ")"
   ]
  },
  {
   "cell_type": "code",
   "execution_count": 34,
   "metadata": {
    "colab": {
     "base_uri": "https://localhost:8080/"
    },
    "id": "pxvb2Y299hE3",
    "outputId": "59eb3185-2e37-4b9e-bc9d-ab1b8ac29b7f"
   },
   "outputs": [
    {
     "name": "stdout",
     "output_type": "stream",
     "text": [
      "7/7 [==============================] - 0s 3ms/step - loss: 0.1754 - accuracy: 0.9706\n"
     ]
    }
   ],
   "source": [
    "# Model evaluation\n",
    "val_loss, val_acc = model.evaluate(X_test, y_test, batch_size=128)"
   ]
  },
  {
   "cell_type": "code",
   "execution_count": 35,
   "metadata": {
    "id": "RBkmDeUW9hE4"
   },
   "outputs": [],
   "source": [
    "# Loading the saved model\n",
    "model = tf.keras.models.load_model(model_save_path)"
   ]
  },
  {
   "cell_type": "code",
   "execution_count": 36,
   "metadata": {
    "colab": {
     "base_uri": "https://localhost:8080/"
    },
    "id": "tFz9Tb0I9hE4",
    "outputId": "1c3b3528-54ae-4ee2-ab04-77429211cbef"
   },
   "outputs": [
    {
     "name": "stdout",
     "output_type": "stream",
     "text": [
      "[7.9936343e-01 3.8236272e-02 8.7209924e-07 1.6182344e-10 1.6048771e-01\n",
      " 1.8534398e-03 5.8275393e-05]\n",
      "0\n"
     ]
    }
   ],
   "source": [
    "# Inference test\n",
    "predict_result = model.predict(np.array([X_test[0]]))\n",
    "print(np.squeeze(predict_result))\n",
    "print(np.argmax(np.squeeze(predict_result)))"
   ]
  },
  {
   "cell_type": "markdown",
   "metadata": {
    "id": "S3U4yNWx9hE4"
   },
   "source": [
    "# Confusion matrix"
   ]
  },
  {
   "cell_type": "code",
   "execution_count": 37,
   "metadata": {
    "colab": {
     "base_uri": "https://localhost:8080/",
     "height": 582
    },
    "id": "AP1V6SCk9hE5",
    "outputId": "08e41a80-7a4a-4619-8125-ecc371368d19"
   },
   "outputs": [
    {
     "data": {
      "image/png": "[encoded data removed]",
      "text/plain": [
       "<Figure size 504x432 with 2 Axes>"
      ]
     },
     "metadata": {
      "needs_background": "light"
     },
     "output_type": "display_data"
    },
    {
     "name": "stdout",
     "output_type": "stream",
     "text": [
      "Classification Report\n",
      "              precision    recall  f1-score   support\n",
      "\n",
      "           0       1.00      1.00      1.00       121\n",
      "           1       0.99      0.79      0.88       116\n",
      "           2       1.00      1.00      1.00       111\n",
      "           3       1.00      1.00      1.00       103\n",
      "           4       1.00      1.00      1.00        94\n",
      "           5       1.00      1.00      1.00        93\n",
      "           6       0.90      1.00      0.94       211\n",
      "\n",
      "    accuracy                           0.97       849\n",
      "   macro avg       0.98      0.97      0.97       849\n",
      "weighted avg       0.97      0.97      0.97       849\n",
      "\n"
     ]
    }
   ],
   "source": [
    "import pandas as pd\n",
    "import seaborn as sns\n",
    "import matplotlib.pyplot as plt\n",
    "from sklearn.metrics import confusion_matrix, classification_report\n",
    "\n",
    "def print_confusion_matrix(y_true, y_pred, report=True):\n",
    "    labels = sorted(list(set(y_true)))\n",
    "    cmx_data = confusion_matrix(y_true, y_pred, labels=labels)\n",
    "    \n",
    "    df_cmx = pd.DataFrame(cmx_data, index=labels, columns=labels)\n",
    " \n",
    "    fig, ax = plt.subplots(figsize=(7, 6))\n",
    "    sns.heatmap(df_cmx, annot=True, fmt='g' ,square=False)\n",
    "    ax.set_ylim(len(set(y_true)), 0)\n",
    "    plt.show()\n",
    "    \n",
    "    if report:\n",
    "        print('Classification Report')\n",
    "        print(classification_report(y_test, y_pred))\n",
    "\n",
    "Y_pred = model.predict(X_test)\n",
    "y_pred = np.argmax(Y_pred, axis=1)\n",
    "\n",
    "print_confusion_matrix(y_test, y_pred)"
   ]
  },
  {
   "cell_type": "markdown",
   "metadata": {
    "id": "FNP6aqzc9hE5"
   },
   "source": [
    "# Convert to model for Tensorflow-Lite"
   ]
  },
  {
   "cell_type": "code",
   "execution_count": 38,
   "metadata": {
    "id": "ODjnYyld9hE6"
   },
   "outputs": [],
   "source": [
    "# Save as a model dedicated to inference\n",
    "model.save(model_save_path, include_optimizer=False)"
   ]
  },
  {
   "cell_type": "code",
   "execution_count": 39,
   "metadata": {
    "colab": {
     "base_uri": "https://localhost:8080/"
    },
    "id": "zRfuK8Y59hE6",
    "outputId": "a4ca585c-b5d5-4244-8291-8674063209bb"
   },
   "outputs": [
    {
     "name": "stdout",
     "output_type": "stream",
     "text": [
      "INFO:tensorflow:Assets written to: C:\\Users\\Asus\\AppData\\Local\\Temp\\tmpsux2c34i\\assets\n"
     ]
    },
    {
     "name": "stderr",
     "output_type": "stream",
     "text": [
      "INFO:tensorflow:Assets written to: C:\\Users\\Asus\\AppData\\Local\\Temp\\tmpsux2c34i\\assets\n"
     ]
    },
    {
     "data": {
      "text/plain": [
       "6544"
      ]
     },
     "execution_count": 39,
     "metadata": {},
     "output_type": "execute_result"
    }
   ],
   "source": [
    "# Transform model (quantization)\n",
    "\n",
    "converter = tf.lite.TFLiteConverter.from_keras_model(model)\n",
    "converter.optimizations = [tf.lite.Optimize.DEFAULT]\n",
    "tflite_quantized_model = converter.convert()\n",
    "\n",
    "open(tflite_save_path, 'wb').write(tflite_quantized_model)"
   ]
  },
  {
   "cell_type": "markdown",
   "metadata": {
    "id": "CHBPBXdx9hE6"
   },
   "source": [
    "# Inference test"
   ]
  },
  {
   "cell_type": "code",
   "execution_count": 40,
   "metadata": {
    "id": "mGAzLocO9hE7"
   },
   "outputs": [],
   "source": [
    "interpreter = tf.lite.Interpreter(model_path=tflite_save_path)\n",
    "interpreter.allocate_tensors()"
   ]
  },
  {
   "cell_type": "code",
   "execution_count": 41,
   "metadata": {
    "id": "oQuDK8YS9hE7"
   },
   "outputs": [],
   "source": [
    "# Get I / O tensor\n",
    "input_details = interpreter.get_input_details()\n",
    "output_details = interpreter.get_output_details()"
   ]
  },
  {
   "cell_type": "code",
   "execution_count": 42,
   "metadata": {
    "id": "2_ixAf_l9hE7"
   },
   "outputs": [],
   "source": [
    "interpreter.set_tensor(input_details[0]['index'], np.array([X_test[0]]))"
   ]
  },
  {
   "cell_type": "code",
   "execution_count": 43,
   "metadata": {
    "colab": {
     "base_uri": "https://localhost:8080/"
    },
    "id": "s4FoAnuc9hE7",
    "outputId": "91f18257-8d8b-4ef3-c558-e9b5f94fabbf",
    "scrolled": true
   },
   "outputs": [
    {
     "name": "stdout",
     "output_type": "stream",
     "text": [
      "Wall time: 916 µs\n"
     ]
    }
   ],
   "source": [
    "%%time\n",
    "# Inference implementation\n",
    "interpreter.invoke()\n",
    "tflite_results = interpreter.get_tensor(output_details[0]['index'])"
   ]
  },
  {
   "cell_type": "code",
   "execution_count": 44,
   "metadata": {
    "colab": {
     "base_uri": "https://localhost:8080/"
    },
    "id": "vONjp19J9hE8",
    "outputId": "77205e24-fd00-42c4-f7b6-e06e527c2cba"
   },
   "outputs": [
    {
     "name": "stdout",
     "output_type": "stream",
     "text": [
      "[7.9936343e-01 3.8236286e-02 8.7209918e-07 1.6182343e-10 1.6048762e-01\n",
      " 1.8534397e-03 5.8275451e-05]\n",
      "0\n"
     ]
    }
   ],
   "source": [
    "print(np.squeeze(tflite_results))\n",
    "print(np.argmax(np.squeeze(tflite_results)))"
   ]
  }
 ],
 "metadata": {
  "accelerator": "GPU",
  "colab": {
   "collapsed_sections": [],
   "name": "keypoint_classification_EN.ipynb",
   "provenance": [],
   "toc_visible": true
  },
  "kernelspec": {
   "display_name": "Python 3 (ipykernel)",
   "language": "python",
   "name": "python3"
  },
  "language_info": {
   "codemirror_mode": {
    "name": "ipython",
    "version": 3
   },
   "file_extension": ".py",
   "mimetype": "text/x-python",
   "name": "python",
   "nbconvert_exporter": "python",
   "pygments_lexer": "ipython3",
   "version": "3.9.6"
  }
 },
 "nbformat": 4,
 "nbformat_minor": 1
}
